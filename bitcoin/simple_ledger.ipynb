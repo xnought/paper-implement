{
 "cells": [
  {
   "cell_type": "markdown",
   "metadata": {},
   "source": [
    "# Simple ledger\n",
    "\n",
    "Have a centralized ledger where we keep track of transactions with a history\n"
   ]
  },
  {
   "cell_type": "code",
   "execution_count": 13,
   "metadata": {},
   "outputs": [],
   "source": [
    "import copy"
   ]
  },
  {
   "cell_type": "code",
   "execution_count": 14,
   "metadata": {},
   "outputs": [
    {
     "name": "stdout",
     "output_type": "stream",
     "text": [
      "Wallet(id='alice', cash=$10) Wallet(id='bob', cash=$15) Wallet(id='carl', cash=$10) Wallet(id='donny', cash=$5)\n"
     ]
    }
   ],
   "source": [
    "class Wallet:\n",
    "\tdef __init__(self, id, starting_amount=0):\n",
    "\t\tself.cash = starting_amount\n",
    "\t\tself.id = id\n",
    "\tdef __repr__(self):\n",
    "\t\treturn f\"Wallet(id='{self.id}', cash=${self.cash})\"\n",
    "\n",
    "alice = Wallet(\"alice\", 10)\n",
    "bob = Wallet(\"bob\", 15)\n",
    "carl = Wallet(\"carl\", 10)\n",
    "donny = Wallet(\"donny\", 5)\n",
    "\n",
    "print(alice, bob, carl, donny)"
   ]
  },
  {
   "cell_type": "code",
   "execution_count": null,
   "metadata": {},
   "outputs": [
    {
     "name": "stdout",
     "output_type": "stream",
     "text": [
      "0 15\n",
      "10 5\n"
     ]
    }
   ],
   "source": [
    "class Ledger:\n",
    "\tdef __init__(self, init_wallets: list[Wallet]):\n",
    "\t\tself.gid = 0\n",
    "\t\tself.history = []\n",
    "\t\tfor w in init_wallets:\n",
    "\t\t\tself.add_transaction_to_history(source=None, dest=w.id, amount=w.cash)\n",
    "\t\t\t\n",
    "\tdef add_transaction_to_history(self, source, dest, amount):\n",
    "\t\tself.history.append({\"gid\": self.gid, \"from\": source, \"to\": dest, \"amount\": amount})\n",
    "\t\tself.gid += 1\n",
    "\t\n",
    "\tdef wallet_amount(self, wallet: Wallet):\n",
    "\t\tid = wallet.id\n",
    "\t\tsummed  = 0\n",
    "\t\tfor t in self.history:\n",
    "\t\t\tif t[\"from\"] == id:\n",
    "\t\t\t\t# Sent money to someone else\n",
    "\t\t\t\tsummed -= t[\"amount\"]\n",
    "\t\t\telif t[\"to\"] == id:\n",
    "\t\t\t\t# Money sent to us\n",
    "\t\t\t\tsummed += t[\"amount\"]\n",
    "\t\treturn summed\n",
    "\n",
    "\n",
    "\n",
    "\tdef transact(self, a: Wallet, b: Wallet, amount):\n",
    "\t\t# first check if a has enough money to send to b \n",
    "\t\ta_cash = self.wallet_amount(a)\n",
    "\t\tassert a_cash >= amount, \"Source needs enough money to send to destination\"\n",
    "\n",
    "\t\t# if we are here, we can execute the transaction\n",
    "\t\tself.add_transaction_to_history(a.id, b.id, amount)\n",
    "\n",
    "l = Ledger([alice, bob, carl, donny])\t\n",
    "\n",
    "l.transact(alice, donny, 10)\n",
    "print(l.wallet_amount(alice), l.wallet_amount(donny))\n",
    "l.transact(donny, alice, 10)\n",
    "print(l.wallet_amount(alice), l.wallet_amount(donny))"
   ]
  }
 ],
 "metadata": {
  "kernelspec": {
   "display_name": "Python 3",
   "language": "python",
   "name": "python3"
  },
  "language_info": {
   "codemirror_mode": {
    "name": "ipython",
    "version": 3
   },
   "file_extension": ".py",
   "mimetype": "text/x-python",
   "name": "python",
   "nbconvert_exporter": "python",
   "pygments_lexer": "ipython3",
   "version": "3.10.16"
  }
 },
 "nbformat": 4,
 "nbformat_minor": 2
}
