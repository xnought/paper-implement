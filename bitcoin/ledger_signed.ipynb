{
 "cells": [
  {
   "cell_type": "markdown",
   "metadata": {},
   "source": [
    "# Ledger Signed\n",
    "\n",
    "Like simple ledger, but here each person must use they key to sign that the transaction should take place. So we don't have any one person making things up.\n",
    "\n",
    "You'll need to install `ecdsa` for this"
   ]
  },
  {
   "cell_type": "code",
   "execution_count": 16,
   "metadata": {},
   "outputs": [],
   "source": [
    "import ecdsa\n",
    "from ecdsa import SigningKey, VerifyingKey, SECP256k1\n",
    "import hashlib"
   ]
  },
  {
   "cell_type": "code",
   "execution_count": 17,
   "metadata": {},
   "outputs": [
    {
     "name": "stdout",
     "output_type": "stream",
     "text": [
      "<ecdsa.keys.SigningKey object at 0x10a55aea0> VerifyingKey.from_string(b'\\x02~\\x0e\\xd4\\x85\\xa2\\xdcq\\xe0\\x12\\xb4\\xfb_\\x11\\xa7mo\\xd2]\\x12\\x0f\\x92\\xe4[Y\\xbe;\\xbd\\xfdI\\xcf\\x8b\\xf2', SECP256k1, sha1)\n"
     ]
    }
   ],
   "source": [
    "def gen_private_public_key_pair():\n",
    "\tprivate_key = SigningKey.generate(curve=SECP256k1)\n",
    "\tpublic_key = private_key.get_verifying_key()\n",
    "\treturn private_key, public_key\n",
    "\n",
    "private, public = gen_private_public_key_pair()\n",
    "print(private, public)"
   ]
  },
  {
   "cell_type": "code",
   "execution_count": 34,
   "metadata": {},
   "outputs": [
    {
     "data": {
      "text/plain": [
       "b'm\\x8bj\\xc5\\xf99\\xf1\\x85?\\\\U\\xe6\\xfa\\xc9\\x92\\r\\xefw\\xfa\\x94\\xc8/M\\xecg#R\\x9bnC\\xcf+'"
      ]
     },
     "execution_count": 34,
     "metadata": {},
     "output_type": "execute_result"
    }
   ],
   "source": [
    "def crypto_hash(_bytes):\n",
    "\treturn hashlib.sha256(_bytes).digest()\n",
    "\n",
    "crypto_hash(\"Hello there!!!\".encode())"
   ]
  },
  {
   "cell_type": "code",
   "execution_count": 43,
   "metadata": {},
   "outputs": [
    {
     "data": {
      "text/plain": [
       "True"
      ]
     },
     "execution_count": 43,
     "metadata": {},
     "output_type": "execute_result"
    }
   ],
   "source": [
    "def sign(private_key, data):\n",
    "\treturn private_key.sign(data)\n",
    "def verify(public_key, signature, data):\n",
    "\ttry: \n",
    "\t\tpublic_key.verify(signature, data)\n",
    "\t\treturn True\n",
    "\texcept Exception:\n",
    "\t\treturn False\n",
    "\n",
    "data = \"hello!\".encode()\n",
    "signature = sign(private, data)\n",
    "verify(public, signature, data)"
   ]
  },
  {
   "cell_type": "markdown",
   "metadata": {},
   "source": [
    "Same thing but based on hashed value"
   ]
  },
  {
   "cell_type": "code",
   "execution_count": 44,
   "metadata": {},
   "outputs": [
    {
     "data": {
      "text/plain": [
       "True"
      ]
     },
     "execution_count": 44,
     "metadata": {},
     "output_type": "execute_result"
    }
   ],
   "source": [
    "hashed = crypto_hash(\"hello!\".encode())\n",
    "signature = sign(private, data)\n",
    "verify(public, signature, data)"
   ]
  },
  {
   "cell_type": "markdown",
   "metadata": {},
   "source": [
    "## Signed transactions in central ledger"
   ]
  },
  {
   "cell_type": "code",
   "execution_count": 45,
   "metadata": {},
   "outputs": [
    {
     "name": "stdout",
     "output_type": "stream",
     "text": [
      "Wallet(id='alice', cash=$10) Wallet(id='bob', cash=$15) Wallet(id='carl', cash=$10) Wallet(id='donny', cash=$5)\n"
     ]
    }
   ],
   "source": [
    "class Wallet:\n",
    "\tdef __init__(self, id, starting_amount=0):\n",
    "\t\tself.cash = starting_amount\n",
    "\t\tself.id = id\n",
    "\t\tself._private_key, self.public_key = gen_private_public_key_pair()\n",
    "\n",
    "\tdef __repr__(self):\n",
    "\t\treturn f\"Wallet(id='{self.id}', cash=${self.cash})\"\n",
    "\n",
    "alice = Wallet(\"alice\", 10)\n",
    "bob = Wallet(\"bob\", 15)\n",
    "carl = Wallet(\"carl\", 10)\n",
    "donny = Wallet(\"donny\", 5)\n",
    "\n",
    "print(alice, bob, carl, donny)"
   ]
  },
  {
   "cell_type": "code",
   "execution_count": 49,
   "metadata": {},
   "outputs": [
    {
     "name": "stdout",
     "output_type": "stream",
     "text": [
      "0 15\n",
      "5 10\n"
     ]
    }
   ],
   "source": [
    "class Ledger:\n",
    "\tdef __init__(self, init_wallets: list[Wallet]):\n",
    "\t\tself.gid = 0\n",
    "\t\tself.history = []\n",
    "\t\tfor w in init_wallets:\n",
    "\t\t\tself.add_transaction_to_history(source=None, dest=w.id, amount=w.cash, source_private_key=w._private_key)\n",
    "\t\t\t\n",
    "\tdef add_transaction_to_history(self, source, dest, amount, source_private_key):\n",
    "\t\ttransaction = {\"gid\": self.gid, \"from\": source, \"to\": dest, \"amount\": amount}\n",
    "\t\thashed = crypto_hash(str(transaction).encode())\n",
    "\t\tsignature = sign(source_private_key, hashed)\n",
    "\t\tself.history.append((transaction, hashed, signature))\n",
    "\t\tself.gid += 1\n",
    "\t\n",
    "\tdef wallet_amount(self, wallet: Wallet):\n",
    "\t\tid = wallet.id\n",
    "\t\tsummed  = 0\n",
    "\t\tfor (t, hashed, signature) in self.history:\n",
    "\t\t\tif t[\"from\"] == id:\n",
    "\t\t\t\tif verify(wallet.public_key, signature, hashed):\n",
    "\t\t\t\t\t# Sent money to someone else\n",
    "\t\t\t\t\tsummed -= t[\"amount\"]\n",
    "\t\t\telif t[\"to\"] == id:\n",
    "\t\t\t\t\t# Money sent to us\n",
    "\t\t\t\t\tsummed += t[\"amount\"]\n",
    "\t\treturn summed\n",
    "\n",
    "\n",
    "\n",
    "\tdef transact(self, a: Wallet, b: Wallet, amount):\n",
    "\t\t# first check if a has enough money to send to b \n",
    "\t\ta_cash = self.wallet_amount(a)\n",
    "\t\tassert a_cash >= amount, \"Source needs enough money to send to destination\"\n",
    "\n",
    "\t\t# if we are here, we can execute the transaction\n",
    "\t\tself.add_transaction_to_history(a.id, b.id, amount, a._private_key)\n",
    "\n",
    "l = Ledger([alice, bob, carl, donny])\t\n",
    "\n",
    "l.transact(alice, donny, 10)\n",
    "\n",
    "print(l.wallet_amount(alice), l.wallet_amount(donny))\n",
    "\n",
    "l.transact(donny, alice, 5)\n",
    "print(l.wallet_amount(alice), l.wallet_amount(donny))"
   ]
  }
 ],
 "metadata": {
  "kernelspec": {
   "display_name": "Python 3",
   "language": "python",
   "name": "python3"
  },
  "language_info": {
   "codemirror_mode": {
    "name": "ipython",
    "version": 3
   },
   "file_extension": ".py",
   "mimetype": "text/x-python",
   "name": "python",
   "nbconvert_exporter": "python",
   "pygments_lexer": "ipython3",
   "version": "3.13.1"
  }
 },
 "nbformat": 4,
 "nbformat_minor": 2
}
