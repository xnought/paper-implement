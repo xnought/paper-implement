{
 "cells": [
  {
   "cell_type": "code",
   "execution_count": 9,
   "metadata": {},
   "outputs": [],
   "source": [
    "import gzip\n",
    "import matplotlib.pyplot as plt\n",
    "plt.style.use(\"dark_background\")"
   ]
  },
  {
   "cell_type": "markdown",
   "metadata": {},
   "source": [
    "Can I define a sophistication metric? It should be low for random strings and be low for simple string, but increase for structured but interesting strings.\n",
    "\n",
    "One way to get close to this would be poll a ton of humans on if a given string is interesting to them and try to fit that curve. Another way to approximate might be to use LLMs, but that's simply an internet simulator, so doubt it would be consistent.\n",
    "\n",
    "The author mentions that kolmogorov complexity on it's own does not satisfy this. Since very random strings have high complexity and very simple string have low which is not the double low we want.\n",
    "\n",
    "We can approximate kolmogorov complexity as compression (ie gzip length of compressed string)"
   ]
  },
  {
   "cell_type": "code",
   "execution_count": 10,
   "metadata": {},
   "outputs": [
    {
     "name": "stdout",
     "output_type": "stream",
     "text": [
      "aaaaaaaaaaaaaaaaaaaaaaaaaa 23\n",
      "abcdefghijklmnopqrstuvwxyz 46\n"
     ]
    }
   ],
   "source": [
    "def k_approx(x: str):\n",
    "\tb = gzip.compress(x.encode())\n",
    "\treturn len(b)\n",
    "\n",
    "simple_string = \"a\"*26\n",
    "print(simple_string, k_approx(simple_string))\n",
    "\n",
    "complex_string = \"abcdefghijklmnopqrstuvwxyz\"\n",
    "print(complex_string, k_approx(complex_string))"
   ]
  },
  {
   "cell_type": "markdown",
   "metadata": {},
   "source": [
    "Clearly it's not quite what we want. But it is for half the inputs. So what if I just take the function and make it piecewise with the inverse of it??\n",
    "\n",
    "So for the first half of inputs we get K(x) and for the second we do 1/K(x) this way the random ones have low entropy 1/K(x) and the simple strings have K(x)\n",
    "\n",
    "The question is how do I order the input such that I know which half it should fall under?\n",
    "\n",
    "What I could do is first compute K(x). If the value is above the theoretical middle point, we take the reciproical, if under, we do nothing. \n",
    "\n",
    "So then what is the theoretical midpoint?\n",
    "\n",
    "The theoretical minimum is the simplest string of all the same letter in the case of shannon entropy this is 0. And in the case where the max shannon entropy is log(n), so if the entropy is under then we can subtract that value from the max."
   ]
  },
  {
   "cell_type": "code",
   "execution_count": 40,
   "metadata": {},
   "outputs": [
    {
     "name": "stdout",
     "output_type": "stream",
     "text": [
      "aaa -0.0\n",
      "abc 1.584962500721156 1.584962500721156\n"
     ]
    }
   ],
   "source": [
    "import math\n",
    "\n",
    "def count_frequencies(x: str):\n",
    "    freqs = {}\n",
    "    for c in x:\n",
    "        if c in freqs:\n",
    "            freqs[c] += 1\n",
    "        else:\n",
    "            freqs[c] = 1\n",
    "    return freqs\n",
    "def entropy(x: str):\n",
    "    summed = 0.0\n",
    "    freqs = count_frequencies(x)\n",
    "    for letter in freqs:\n",
    "        p = freqs[letter] /len(x)\n",
    "        summed += p*math.log2(p)\n",
    "    return -summed\n",
    "\n",
    "print(\"aaa\", entropy(\"aaa\"))\n",
    "print(\"abc\", entropy(\"abc\"), math.log2(3))"
   ]
  },
  {
   "cell_type": "code",
   "execution_count": 41,
   "metadata": {},
   "outputs": [],
   "source": [
    "def soph(x):\n",
    "\tent = entropy(x)\n",
    "\tmax_entropy = math.log2(len(x))\n",
    "\tif ent < max_entropy/2:\n",
    "\t\treturn ent\n",
    "\telse:\n",
    "\t\treturn max_entropy - ent"
   ]
  },
  {
   "cell_type": "code",
   "execution_count": 53,
   "metadata": {},
   "outputs": [],
   "source": [
    "ascii = lambda i: chr(ord('a') + i)\n",
    "dist_entropy = []\n",
    "dist_soph = []\n",
    "for i in range(26):\n",
    "    for j in range(26):\n",
    "        for k in range(26):\n",
    "            for l in range(26):\n",
    "                s = ascii(i) + ascii(j) + ascii(k) + ascii(l) \n",
    "                dist_entropy.append(entropy(s))\n",
    "                dist_soph.append(soph(s))"
   ]
  },
  {
   "cell_type": "code",
   "execution_count": 56,
   "metadata": {},
   "outputs": [
    {
     "data": {
      "text/plain": [
       "<matplotlib.legend.Legend at 0x12d173c10>"
      ]
     },
     "execution_count": 56,
     "metadata": {},
     "output_type": "execute_result"
    },
    {
     "data": {
      "image/png": "[encoded data removed]",
      "text/plain": [
       "<Figure size 640x480 with 1 Axes>"
      ]
     },
     "metadata": {},
     "output_type": "display_data"
    }
   ],
   "source": [
    "plt.hist(dist_entropy, label=\"entropy distribution\")\n",
    "plt.hist(dist_soph, label=\"sophistication distribution\")\n",
    "plt.legend()"
   ]
  },
  {
   "cell_type": "markdown",
   "metadata": {},
   "source": [
    "To label more sophistcated, I likely should use Gzip since you could think of it as a better compressor than huffman coding.\n",
    "\n",
    "But I would need to have some general limits of minimums and maximums of gzip which I don't know. But approximately it could look like:\n",
    "\n",
    "Take most simple string gzip(simple) most complicated string gzip(complicated), then do what I had before"
   ]
  },
  {
   "cell_type": "code",
   "execution_count": 65,
   "metadata": {},
   "outputs": [
    {
     "name": "stdout",
     "output_type": "stream",
     "text": [
      "0\n",
      "2\n",
      "0\n"
     ]
    }
   ],
   "source": [
    "def gzip_soph(x, _min, _most, _max):\n",
    "\tc = k_approx(x)\n",
    "\tif c < _most:\n",
    "\t\treturn c - _min\n",
    "\telse:\n",
    "\t\treturn _max - c\n",
    "\n",
    "_min = k_approx(\"aaaaaaaa\")\n",
    "_most = k_approx(\"abcdabcd\")\n",
    "_max = k_approx(\"abcdefgh\")\n",
    "\n",
    "print(gzip_soph(\"a\"*8, _min, _most, _max))\n",
    "print(gzip_soph(\"abcdabcd\", _min, _most, _max))\n",
    "print(gzip_soph(\"abcdefgh\", _min, _most, _max))"
   ]
  },
  {
   "cell_type": "markdown",
   "metadata": {},
   "source": [
    "So basically if you know the min complex and max complex and what you think is th most interesting, we can get a sophistication metric. "
   ]
  }
 ],
 "metadata": {
  "kernelspec": {
   "display_name": "Python 3",
   "language": "python",
   "name": "python3"
  },
  "language_info": {
   "codemirror_mode": {
    "name": "ipython",
    "version": 3
   },
   "file_extension": ".py",
   "mimetype": "text/x-python",
   "name": "python",
   "nbconvert_exporter": "python",
   "pygments_lexer": "ipython3",
   "version": "3.10.16"
  }
 },
 "nbformat": 4,
 "nbformat_minor": 2
}
