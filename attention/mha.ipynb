{
 "cells": [
  {
   "cell_type": "code",
   "execution_count": 1,
   "metadata": {},
   "outputs": [],
   "source": [
    "import torch"
   ]
  },
  {
   "cell_type": "code",
   "execution_count": 30,
   "metadata": {},
   "outputs": [],
   "source": [
    "torch.manual_seed(0)\n",
    "\n",
    "d_k = 3\n",
    "B = 2\n",
    "N = 5\n",
    "T = 6\n",
    "n_heads = 4\n",
    "\n",
    "Q = torch.randn((B, n_heads, N, d_k))\n",
    "K = torch.randn((B, n_heads, N, d_k))\n",
    "V = torch.randn((B, n_heads, N, d_k))"
   ]
  },
  {
   "cell_type": "code",
   "execution_count": 31,
   "metadata": {},
   "outputs": [
    {
     "data": {
      "text/plain": [
       "torch.Size([2, 4, 5, 3])"
      ]
     },
     "execution_count": 31,
     "metadata": {},
     "output_type": "execute_result"
    }
   ],
   "source": [
    "def attn(Q, K, V, mask):\n",
    "\tQKT = (Q@K.transpose(-2,-1)) * (d_k**-.5)\n",
    "\tmasked_QKT = QKT.masked_fill(mask, float(\"-inf\"))\n",
    "\tweights = torch.softmax(masked_QKT, dim=-1)\n",
    "\treturn weights@V\n",
    "\n",
    "attn(Q, K, V, mask=torch.triu(torch.ones((N, N), dtype=torch.bool), diagonal=1)).shape"
   ]
  },
  {
   "cell_type": "markdown",
   "metadata": {},
   "source": [
    "Just to check that the @ operator does a batched matrix multiply how I like let's unroll and use BMM"
   ]
  },
  {
   "cell_type": "code",
   "execution_count": 32,
   "metadata": {},
   "outputs": [],
   "source": [
    "torch.manual_seed(0)\n",
    "a = torch.randn((B, n_heads, N, d_k))\n",
    "b = torch.randn((B, n_heads, N, d_k))"
   ]
  },
  {
   "cell_type": "code",
   "execution_count": 33,
   "metadata": {},
   "outputs": [
    {
     "data": {
      "text/plain": [
       "True"
      ]
     },
     "execution_count": 33,
     "metadata": {},
     "output_type": "execute_result"
    }
   ],
   "source": [
    "a_unrolled = a.view((-1, N, d_k))\n",
    "b_unrolled = b.view((-1, N, d_k))\n",
    "bmm = torch.bmm(a_unrolled, b_unrolled.transpose(-2, -1)).view((B, n_heads, N, N)).contiguous()\n",
    "regular = a@b.transpose(-2, -1)\n",
    "torch.allclose(bmm, regular)"
   ]
  },
  {
   "cell_type": "markdown",
   "metadata": {},
   "source": [
    "But how do i encode the Q weights to which we get Q from?\n",
    "\n",
    "It was super simple with one headed attention.\n",
    "\n",
    "We just do `torch.nn.Linear()` and project the $(B, N, T)$ to $(B, N, d_k)$ which was as simple as \n",
    "`torch.nn.Linear(T, d_k)` then later calling that function.\n",
    "\n",
    "Given multiple heads it gets a bit more complicated. But in general, I'm just trying to apply this transformation n_heads number of times.\n",
    "\n",
    "The input stays the same as $(B, N, T)$ but now I want to project that into $(B, \\text{n\\_heads}, N, d_k)$ which is just the same but applied n_heads number of times.\n",
    "\n",
    "So what I need is first weights that represent the projection. Will be shaped as $(T, d_k)$\n",
    "\n",
    "In the original case, $(B, N, T)$ is matrix multiplied with $(T, d_k)$ to get $(B, N, d_k)$. So I want to do this n_heads times so I'll create n_heads weight matrices as (n_heads, T, d_k).\n",
    "\n",
    "So essentially I want \n",
    "\n",
    "```python\n",
    "w = torch.zeros((n_heads, T, d_k))\n",
    "for i in range(n_heads):\n",
    "\tQ[i, ...] = x@w[i, ...]\n",
    "```\n",
    "\n",
    "Is there an operation to do that? What I could do is unroll the dimension leading up to it, then batch matmul\n",
    "\n",
    "For example make the Q matrix (T, n_heads x d_k) and the x matrix (B x N, T)\n",
    "\n",
    "So when I matmul x and Q I get (B x N, n_heads x d_k) and just reshape into (B, n_heads, N, d_k) which is what I want. Let's try that!"
   ]
  },
  {
   "cell_type": "markdown",
   "metadata": {},
   "source": []
  },
  {
   "cell_type": "code",
   "execution_count": 114,
   "metadata": {},
   "outputs": [
    {
     "data": {
      "text/plain": [
       "tensor([[[-0.0043,  0.3097],\n",
       "         [-0.4752, -0.4249]],\n",
       "\n",
       "        [[-0.2224,  0.1548],\n",
       "         [-0.0114,  0.4578]],\n",
       "\n",
       "        [[-0.0512,  0.1528],\n",
       "         [-0.1745, -0.1135]]])"
      ]
     },
     "execution_count": 114,
     "metadata": {},
     "output_type": "execute_result"
    }
   ],
   "source": [
    "n_heads = 2\n",
    "B = 2\n",
    "N = 5\n",
    "d_k = 2\n",
    "T = 3\n",
    "\n",
    "torch.manual_seed(0)\n",
    "x = torch.randn((B, N, T))\n",
    "torch.manual_seed(0)\n",
    "w_Q = torch.empty((T, n_heads, d_k))\n",
    "r = (1/T)**.5\n",
    "torch.nn.init.uniform_(w_Q, a=-r, b=r)\n",
    "\n",
    "w_Q"
   ]
  },
  {
   "cell_type": "code",
   "execution_count": 115,
   "metadata": {},
   "outputs": [
    {
     "data": {
      "text/plain": [
       "tensor([[-1.1258, -1.1524, -0.2506],\n",
       "        [-0.4339,  0.8487,  0.6920],\n",
       "        [-0.3160, -2.1152,  0.3223],\n",
       "        [-1.2633,  0.3500,  0.3081],\n",
       "        [ 0.1198,  1.2377, -0.1435],\n",
       "        [-0.1116, -0.6136,  0.0316],\n",
       "        [-0.4927,  0.2484,  0.4397],\n",
       "        [ 0.1124, -0.8411, -2.3160],\n",
       "        [-0.1023,  0.7924, -0.2897],\n",
       "        [ 0.0525,  0.5229,  2.3022]])"
      ]
     },
     "execution_count": 115,
     "metadata": {},
     "output_type": "execute_result"
    }
   ],
   "source": [
    "xT = x.view((-1, T)) # (B * N, T)\n",
    "xT"
   ]
  },
  {
   "cell_type": "code",
   "execution_count": 116,
   "metadata": {},
   "outputs": [
    {
     "data": {
      "text/plain": [
       "tensor([[-0.0043,  0.3097, -0.4752, -0.4249],\n",
       "        [-0.2224,  0.1548, -0.0114,  0.4578],\n",
       "        [-0.0512,  0.1528, -0.1745, -0.1135]])"
      ]
     },
     "execution_count": 116,
     "metadata": {},
     "output_type": "execute_result"
    }
   ],
   "source": [
    "w_QT = w_Q.view(T, -1) # (T, n_heads * d_k)\n",
    "w_QT"
   ]
  },
  {
   "cell_type": "code",
   "execution_count": 117,
   "metadata": {},
   "outputs": [
    {
     "data": {
      "text/plain": [
       "tensor([[ 0.2740, -0.5654,  0.5919, -0.0207],\n",
       "        [-0.2223,  0.1027,  0.0757,  0.4943],\n",
       "        [ 0.4552, -0.3761,  0.1181, -0.8706],\n",
       "        [-0.0882, -0.2900,  0.5426,  0.6620],\n",
       "        [-0.2684,  0.2068, -0.0461,  0.5319],\n",
       "        [ 0.1353, -0.1247,  0.0545, -0.2370],\n",
       "        [-0.0756, -0.0470,  0.1546,  0.2732],\n",
       "        [ 0.3052, -0.4492,  0.3603, -0.1699],\n",
       "        [-0.1609,  0.0467,  0.0901,  0.4391],\n",
       "        [-0.2345,  0.4489, -0.4326, -0.0442]])"
      ]
     },
     "execution_count": 117,
     "metadata": {},
     "output_type": "execute_result"
    }
   ],
   "source": [
    "out = xT@w_QT # (B*N, n_heads*d_k)\n",
    "out"
   ]
  },
  {
   "cell_type": "code",
   "execution_count": 118,
   "metadata": {},
   "outputs": [
    {
     "data": {
      "text/plain": [
       "tensor([[[[ 0.2740, -0.5654],\n",
       "          [-0.2223,  0.1027],\n",
       "          [ 0.4552, -0.3761],\n",
       "          [-0.0882, -0.2900],\n",
       "          [-0.2684,  0.2068]],\n",
       "\n",
       "         [[ 0.5919, -0.0207],\n",
       "          [ 0.0757,  0.4943],\n",
       "          [ 0.1181, -0.8706],\n",
       "          [ 0.5426,  0.6620],\n",
       "          [-0.0461,  0.5319]]],\n",
       "\n",
       "\n",
       "        [[[ 0.1353, -0.1247],\n",
       "          [-0.0756, -0.0470],\n",
       "          [ 0.3052, -0.4492],\n",
       "          [-0.1609,  0.0467],\n",
       "          [-0.2345,  0.4489]],\n",
       "\n",
       "         [[ 0.0545, -0.2370],\n",
       "          [ 0.1546,  0.2732],\n",
       "          [ 0.3603, -0.1699],\n",
       "          [ 0.0901,  0.4391],\n",
       "          [-0.4326, -0.0442]]]])"
      ]
     },
     "execution_count": 118,
     "metadata": {},
     "output_type": "execute_result"
    }
   ],
   "source": [
    "out_fmt = out.view((B, N, n_heads, d_k)).transpose(1,2).contiguous() # (B, n_heads, N, d_k)\n",
    "out_fmt"
   ]
  },
  {
   "cell_type": "code",
   "execution_count": 119,
   "metadata": {},
   "outputs": [
    {
     "data": {
      "text/plain": [
       "True"
      ]
     },
     "execution_count": 119,
     "metadata": {},
     "output_type": "execute_result"
    }
   ],
   "source": [
    "out_fmt_2 = torch.empty((B, n_heads, N, d_k))\n",
    "for i in range(n_heads):\n",
    "\tout_fmt_2[:, i, :, :] = x@w_Q[:, i, :]\n",
    "torch.allclose(out_fmt_2, out_fmt)"
   ]
  },
  {
   "cell_type": "code",
   "execution_count": 125,
   "metadata": {},
   "outputs": [
    {
     "data": {
      "text/plain": [
       "torch.Size([2, 5, 3])"
      ]
     },
     "execution_count": 125,
     "metadata": {},
     "output_type": "execute_result"
    }
   ],
   "source": [
    "def uniform_parameter(size, a, b, requires_grad=True):\n",
    "\tt = torch.empty(size, requires_grad=requires_grad)\n",
    "\ttorch.nn.init.uniform_(t, a=a, b=b)\n",
    "\treturn torch.nn.Parameter(t)\n",
    "\n",
    "class MHLinear(torch.nn.Module):\n",
    "\tdef __init__(self, n_heads, T, d_k):\n",
    "\t\t\"\"\"Linear transformation (no Bias) but applied to multiple n_heads hence MHLinaer\"\"\"\n",
    "\t\tsuper().__init__()\n",
    "\t\tb = T**-.5\n",
    "\t\ta = -b\n",
    "\t\tself.weights = uniform_parameter((T, n_heads, d_k), a, b)\n",
    "\n",
    "\tdef __call__(self, X):\n",
    "\t\tB, N, T = X.shape\n",
    "\t\tX_unrolled = X.view(-1, T) # (B*N, T)\n",
    "\t\tW_unrolled = self.weights.view(T, -1) # (T, n_heads*d_k)\n",
    "\t\tprojected = X_unrolled@W_unrolled # (B*N, n_heads*d_k)\n",
    "\t\treturn projected.view((B, N, n_heads, d_k)).transpose(1, 2).contiguous() # (B, n_heads, N, d_k)\n",
    "\n",
    "class MHA(torch.nn.Module):\n",
    "\tdef __init__(self, n_heads, N, T, d_k, d_out):\n",
    "\t\tsuper().__init__()\n",
    "\t\tself.Q, self.K, self.V = MHLinear(n_heads, T, d_k), MHLinear(n_heads, T, d_k), MHLinear(n_heads, T, d_k)\n",
    "\t\tself.out = torch.nn.Linear(n_heads*d_k, d_out)\n",
    "\t\tself.mask = torch.triu(torch.ones((N, N), requires_grad=False, dtype=torch.bool), diagonal=1)\n",
    "\n",
    "\tdef __call__(self, X):\n",
    "\t\tB, N, T = X.shape\n",
    "\t\tmha = attn(Q=self.Q(X), K=self.K(X), V=self.V(X), mask=self.mask) # (B, n_heads, N, d_k)\n",
    "\t\tmha = mha.transpose(1,2).contiguous().view((B, N, -1)) # *(B, N, n_heads*d_k)\n",
    "\t\treturn self.out(mha) # project to d_out  \n",
    "\n",
    "torch.manual_seed(0)\n",
    "m = MHA(n_heads=n_heads, N=N, T=T, d_k=d_k, d_out=T)\t\n",
    "m(x).shape"
   ]
  }
 ],
 "metadata": {
  "kernelspec": {
   "display_name": ".venv",
   "language": "python",
   "name": "python3"
  },
  "language_info": {
   "codemirror_mode": {
    "name": "ipython",
    "version": 3
   },
   "file_extension": ".py",
   "mimetype": "text/x-python",
   "name": "python",
   "nbconvert_exporter": "python",
   "pygments_lexer": "ipython3",
   "version": "3.10.16"
  }
 },
 "nbformat": 4,
 "nbformat_minor": 2
}
