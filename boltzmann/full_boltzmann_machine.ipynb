{
 "cells": [
  {
   "cell_type": "markdown",
   "metadata": {},
   "source": [
    "First the boltzmann machine has weights between two given units. We can denote as $w_{ij}$"
   ]
  },
  {
   "cell_type": "code",
   "execution_count": 99,
   "metadata": {},
   "outputs": [],
   "source": [
    "import random\n",
    "import matplotlib.pyplot as plt\n",
    "import numpy as np\n",
    "plt.style.use(\"dark_background\")"
   ]
  },
  {
   "cell_type": "code",
   "execution_count": 100,
   "metadata": {},
   "outputs": [],
   "source": [
    "class SymmetricWeights:\n",
    "\tdef __init__(self, units):\n",
    "\t\tself.units = units\n",
    "\t\tself.data = []\n",
    "\t\tfor i in range(units):\n",
    "\t\t\tr = []\n",
    "\t\t\tfor j in range(units):\n",
    "\t\t\t\tif(i < j):\n",
    "\t\t\t\t\tr.append(random.random())\n",
    "\t\t\t\telse:\n",
    "\t\t\t\t\tr.append(None)\n",
    "\t\t\tself.data.append(r)\n",
    "\n",
    "\tdef __getitem__(self, tup):\n",
    "\t\ti,j = tup\n",
    "\t\tassert(i != j)\n",
    "\t\tif i > j:\n",
    "\t\t\ti, j = j, i\n",
    "\t\treturn self.data[i][j]\n",
    "\n",
    "\tdef __repr__(self):\n",
    "\t\treturn str(self.data)\n",
    "\n",
    "w = SymmetricWeights(5)"
   ]
  },
  {
   "cell_type": "code",
   "execution_count": 101,
   "metadata": {},
   "outputs": [
    {
     "name": "stdout",
     "output_type": "stream",
     "text": [
      "None 0.859119747833 0.891618364650744 0.36922520786349455 0.596554732474722 \n",
      "None None 0.9563722826546089 0.7401482023517861 0.8525848399171184 \n",
      "None None None 0.225307251414136 0.29728305150400247 \n",
      "None None None None 0.708093448774806 \n",
      "None None None None None \n"
     ]
    }
   ],
   "source": [
    "for i in range(5):\n",
    "\tfor j in range(5):\n",
    "\t\tif(i < j):\n",
    "\t\t\tprint(w[i, j], end=\" \")\n",
    "\t\telse:\n",
    "\t\t\tprint(\"None\", end=\" \")\n",
    "\tprint()"
   ]
  },
  {
   "cell_type": "markdown",
   "metadata": {},
   "source": [
    "next I'll visualize this symmetric matrix via matplotlib"
   ]
  },
  {
   "cell_type": "code",
   "execution_count": null,
   "metadata": {},
   "outputs": [
    {
     "data": {
      "image/png": "[encoded data removed]",
      "text/plain": [
       "<Figure size 640x480 with 2 Axes>"
      ]
     },
     "metadata": {},
     "output_type": "display_data"
    }
   ],
   "source": [
    "\n",
    "def visualize_weights(w: SymmetricWeights):\n",
    "\tfull = []\n",
    "\tfor i in range(w.units):\n",
    "\t\tf = []\n",
    "\t\tfor j in range(w.units):\n",
    "\t\t\tif(i != j):\n",
    "\t\t\t\tf.append(w[i, j])\n",
    "\t\t\telse:\n",
    "\t\t\t\tf.append(np.NaN)\n",
    "\t\tfull.append(f)\n",
    "\tplt.imshow(np.array(full))\n",
    "\tplt.colorbar()\n",
    "visualize_weights(w)"
   ]
  },
  {
   "cell_type": "code",
   "execution_count": null,
   "metadata": {},
   "outputs": [],
   "source": []
  }
 ],
 "metadata": {
  "kernelspec": {
   "display_name": "Python 3",
   "language": "python",
   "name": "python3"
  },
  "language_info": {
   "codemirror_mode": {
    "name": "ipython",
    "version": 3
   },
   "file_extension": ".py",
   "mimetype": "text/x-python",
   "name": "python",
   "nbconvert_exporter": "python",
   "pygments_lexer": "ipython3",
   "version": "3.10.16"
  }
 },
 "nbformat": 4,
 "nbformat_minor": 2
}
