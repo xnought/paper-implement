{
 "cells": [
  {
   "cell_type": "markdown",
   "metadata": {},
   "source": [
    "# Boltzmann Machines\n",
    "\n",
    "For this implementation, I'll use the restricted boltzmann variation just to simplify things and so I don't have to deal with connection between my own inputs and I will have a threshold of 0 so no $\\theta$ at all.\n",
    "\n",
    "So first I need units that are fixed based on the input. I want to store XOR information in my network."
   ]
  },
  {
   "cell_type": "code",
   "execution_count": 1,
   "metadata": {},
   "outputs": [],
   "source": [
    "import numpy as np\n",
    "import matplotlib.pyplot as plt\n",
    "plt.style.use(\"dark_background\")"
   ]
  },
  {
   "cell_type": "code",
   "execution_count": 2,
   "metadata": {},
   "outputs": [
    {
     "data": {
      "text/plain": [
       "array([[0, 0, 0],\n",
       "       [0, 1, 1],\n",
       "       [1, 0, 1],\n",
       "       [1, 1, 0]])"
      ]
     },
     "execution_count": 2,
     "metadata": {},
     "output_type": "execute_result"
    }
   ],
   "source": [
    "x = np.array([[0, 0, 0], [0, 1, 1], [1, 0, 1], [1, 1, 0]])\n",
    "x"
   ]
  },
  {
   "cell_type": "code",
   "execution_count": 3,
   "metadata": {},
   "outputs": [
    {
     "data": {
      "text/plain": [
       "array([ True,  True,  True,  True])"
      ]
     },
     "execution_count": 3,
     "metadata": {},
     "output_type": "execute_result"
    }
   ],
   "source": [
    "(x[:, 0] ^ x[:, 1]) == x[:, 2]"
   ]
  },
  {
   "cell_type": "markdown",
   "metadata": {},
   "source": [
    "Next I want to design the boltzmann machine so that I have input nodes that connect to densely connected hidden nodes.\n",
    "\n",
    "A unit in the boltzmann machine connects to other units in a bi directional way and there is a singe weight link connecting them."
   ]
  },
  {
   "cell_type": "code",
   "execution_count": 34,
   "metadata": {},
   "outputs": [],
   "source": [
    "weights = np.random.randn(3, 6)"
   ]
  },
  {
   "cell_type": "code",
   "execution_count": 35,
   "metadata": {},
   "outputs": [
    {
     "data": {
      "text/plain": [
       "array([[ 2.49671332e-01,  6.69016971e-02, -1.04279911e-01,\n",
       "        -5.56949080e-01, -5.73765038e-01, -6.13338213e-01],\n",
       "       [-2.09442784e-01,  6.08921921e-01,  1.12122583e+00,\n",
       "        -2.50843348e+00, -8.75507343e-01,  1.57198925e+00],\n",
       "       [-2.05507292e-01,  3.88330715e-04, -6.79320323e-01,\n",
       "        -1.60437539e+00,  4.65102066e-01, -1.17716699e+00]])"
      ]
     },
     "execution_count": 35,
     "metadata": {},
     "output_type": "execute_result"
    }
   ],
   "source": [
    "weights"
   ]
  },
  {
   "cell_type": "code",
   "execution_count": 40,
   "metadata": {},
   "outputs": [
    {
     "data": {
      "text/plain": [
       "array([[0.5       , 0.5       , 0.5       , 0.5       , 0.5       ,\n",
       "        0.5       ],\n",
       "       [0.39772578, 0.64778345, 0.60871298, 0.01609835, 0.39881495,\n",
       "        0.59744302],\n",
       "       [0.51103922, 0.51681616, 0.31354447, 0.10327773, 0.47286096,\n",
       "        0.1430108 ],\n",
       "       [0.51005578, 0.66280594, 0.73437728, 0.04455799, 0.19011357,\n",
       "        0.72285164]])"
      ]
     },
     "execution_count": 40,
     "metadata": {},
     "output_type": "execute_result"
    }
   ],
   "source": [
    "def prob_unit_on(prev_s, incoming_weights, T=1):\n",
    "\tweighted_sum = prev_s@incoming_weights\n",
    "\treturn 1/(1 + np.exp(-weighted_sum/T)) # boltzmann dist.\n",
    "\n",
    "prob_unit_on(x, weights, T=1) # probs of each hidden layer state being 1"
   ]
  },
  {
   "cell_type": "code",
   "execution_count": 46,
   "metadata": {},
   "outputs": [
    {
     "data": {
      "text/plain": [
       "array([[0.41007221, 0.79617325, 0.20057984]])"
      ]
     },
     "execution_count": 46,
     "metadata": {},
     "output_type": "execute_result"
    }
   ],
   "source": [
    "set_hidden_state = np.array([[1, 0, 0, 0, 0, 1]])\n",
    "p = prob_unit_on(set_hidden_state, weights.T, T=1) # probs of each visible layer state being 1\n",
    "p"
   ]
  },
  {
   "cell_type": "code",
   "execution_count": 54,
   "metadata": {},
   "outputs": [
    {
     "data": {
      "text/plain": [
       "array([[0., 0., 1.]])"
      ]
     },
     "execution_count": 54,
     "metadata": {},
     "output_type": "execute_result"
    }
   ],
   "source": [
    "def s(probs):\n",
    "\tr = np.random.rand(*probs.shape)\n",
    "\tout = np.zeros_like(probs)\n",
    "\tout[r > probs] = 1\n",
    "\treturn out\n",
    "s(p)"
   ]
  },
  {
   "cell_type": "code",
   "execution_count": 128,
   "metadata": {},
   "outputs": [
    {
     "data": {
      "text/plain": [
       "array([[0., 0., 0., 1., 0., 1.],\n",
       "       [0., 1., 1., 1., 1., 0.],\n",
       "       [0., 0., 1., 0., 0., 1.],\n",
       "       [0., 0., 0., 0., 0., 0.]])"
      ]
     },
     "execution_count": 128,
     "metadata": {},
     "output_type": "execute_result"
    }
   ],
   "source": [
    "forward = s(prob_unit_on(x, weights))\n",
    "forward"
   ]
  },
  {
   "cell_type": "code",
   "execution_count": 131,
   "metadata": {},
   "outputs": [
    {
     "data": {
      "text/plain": [
       "array([[0., 1., 1.],\n",
       "       [0., 1., 1.],\n",
       "       [1., 1., 1.],\n",
       "       [0., 1., 1.]])"
      ]
     },
     "execution_count": 131,
     "metadata": {},
     "output_type": "execute_result"
    }
   ],
   "source": [
    "backward = s(prob_unit_on(forward, weights.T))\n",
    "backward"
   ]
  }
 ],
 "metadata": {
  "kernelspec": {
   "display_name": "Python 3",
   "language": "python",
   "name": "python3"
  },
  "language_info": {
   "codemirror_mode": {
    "name": "ipython",
    "version": 3
   },
   "file_extension": ".py",
   "mimetype": "text/x-python",
   "name": "python",
   "nbconvert_exporter": "python",
   "pygments_lexer": "ipython3",
   "version": "3.10.16"
  }
 },
 "nbformat": 4,
 "nbformat_minor": 2
}
